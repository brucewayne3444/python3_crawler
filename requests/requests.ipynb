{
 "cells": [
  {
   "cell_type": "markdown",
   "metadata": {},
   "source": [
    "# Init"
   ]
  },
  {
   "cell_type": "code",
   "execution_count": null,
   "metadata": {},
   "outputs": [],
   "source": [
    "import requests\n",
    "import json"
   ]
  },
  {
   "cell_type": "markdown",
   "metadata": {
    "colab_type": "text",
    "id": "IZ_N1aDuW_GO"
   },
   "source": [
    "# Making Requests"
   ]
  },
  {
   "cell_type": "code",
   "execution_count": null,
   "metadata": {},
   "outputs": [],
   "source": [
    "#GET\n",
    "url = 'http://httpbin.org/robots.txt'\n",
    "r = requests.get(url)"
   ]
  },
  {
   "cell_type": "code",
   "execution_count": null,
   "metadata": {
    "colab": {
     "base_uri": "https://localhost:8080/",
     "height": 34
    },
    "colab_type": "code",
    "executionInfo": {
     "elapsed": 945,
     "status": "ok",
     "timestamp": 1563023490796,
     "user": {
      "displayName": "Bruce如是说",
      "photoUrl": "https://lh3.googleusercontent.com/-zfRn15u1WA0/AAAAAAAAAAI/AAAAAAAAAC8/CMuVAhOJOkE/s64/photo.jpg",
      "userId": "11741505420427847904"
     },
     "user_tz": -480
    },
    "id": "Q1zc0WpuaQMB",
    "outputId": "96a5e00f-f9e6-4bad-8180-be9910e014d4",
    "scrolled": true
   },
   "outputs": [],
   "source": [
    "#POST\n",
    "url = 'http://httpbin.org/post'\n",
    "payload = {'key':'value'}\n",
    "r = requests.post(url, data=payload )"
   ]
  },
  {
   "cell_type": "markdown",
   "metadata": {
    "colab_type": "text",
    "id": "r4krmwbbbeMb"
   },
   "source": [
    "# Response"
   ]
  },
  {
   "cell_type": "code",
   "execution_count": null,
   "metadata": {
    "colab": {
     "base_uri": "https://localhost:8080/",
     "height": 34
    },
    "colab_type": "code",
    "executionInfo": {
     "elapsed": 728,
     "status": "ok",
     "timestamp": 1563022961314,
     "user": {
      "displayName": "Bruce如是说",
      "photoUrl": "https://lh3.googleusercontent.com/-zfRn15u1WA0/AAAAAAAAAAI/AAAAAAAAAC8/CMuVAhOJOkE/s64/photo.jpg",
      "userId": "11741505420427847904"
     },
     "user_tz": -480
    },
    "id": "UEkIn4UiacI0",
    "outputId": "21197670-47c2-4625-c5fe-fddf7d8045fa"
   },
   "outputs": [],
   "source": [
    "#Status Codes, Headers, text\n",
    "url = 'http://httpbin.org/ip'\n",
    "r = requests.get(url)\n",
    "\n",
    "print(r.status_code)\n",
    "\n",
    "print(r.headers)\n",
    "\n",
    "print(r.text)"
   ]
  },
  {
   "cell_type": "code",
   "execution_count": null,
   "metadata": {
    "colab": {
     "base_uri": "https://localhost:8080/",
     "height": 34
    },
    "colab_type": "code",
    "executionInfo": {
     "elapsed": 705,
     "status": "ok",
     "timestamp": 1563023234580,
     "user": {
      "displayName": "Bruce如是说",
      "photoUrl": "https://lh3.googleusercontent.com/-zfRn15u1WA0/AAAAAAAAAAI/AAAAAAAAAC8/CMuVAhOJOkE/s64/photo.jpg",
      "userId": "11741505420427847904"
     },
     "user_tz": -480
    },
    "id": "PPekbQiRayJD",
    "outputId": "6ab66da7-2726-4815-f3e3-526ee36f6a0b"
   },
   "outputs": [],
   "source": [
    "# content\n",
    "# Binary, JSON\n",
    "url = 'http://httpbin.org/ip'\n",
    "r = requests.get(url)\n",
    "\n",
    "print(r.content)\n",
    "print(type(r.content))\n",
    "#print(r.text)\n",
    "#print(type(r.text))\n",
    "\n",
    "print(r.json())\n",
    "print(type(r.json()))\n"
   ]
  },
  {
   "cell_type": "markdown",
   "metadata": {},
   "source": [
    "# Request data"
   ]
  },
  {
   "cell_type": "code",
   "execution_count": null,
   "metadata": {},
   "outputs": [],
   "source": [
    "#Headers\n",
    "url = 'http://httpbin.org/headers'\n",
    "headers = {'X-Something': 'value'}\n",
    "r = requests.get(url, headers=headers)\n",
    "print(r.text)"
   ]
  },
  {
   "cell_type": "code",
   "execution_count": null,
   "metadata": {},
   "outputs": [],
   "source": [
    "#Query parameters\n",
    "url = 'http://httpbin.org/get'\n",
    "params = {'arg':'value'}\n",
    "r = requests.get(url, params=params)\n",
    "print(r.text)"
   ]
  },
  {
   "cell_type": "code",
   "execution_count": null,
   "metadata": {},
   "outputs": [],
   "source": [
    "#JSON\n",
    "url = 'http://httpbin.org/post'\n",
    "payload = {'attribute': 'value'}\n",
    "r = requests.post(url, json=payload)\n",
    "print(r.text)"
   ]
  },
  {
   "cell_type": "code",
   "execution_count": null,
   "metadata": {},
   "outputs": [],
   "source": [
    "#Form data\n",
    "url = 'http://httpbin.org/post'\n",
    "payload = {'field': (None,'value')}\n",
    "r = requests.post(url, files=payload)\n",
    "print(r.text)"
   ]
  },
  {
   "cell_type": "code",
   "execution_count": null,
   "metadata": {},
   "outputs": [],
   "source": [
    "#Files & binary data\n",
    "url = 'http://httpbin.org/post'\n",
    "with open('README.md') as fp:\n",
    "    file_data = fp.read()\n",
    "payload = {'filefield': ('file', file_data)}\n",
    "r = requests.post(url, files=payload)\n",
    "print(r.text)"
   ]
  },
  {
   "cell_type": "markdown",
   "metadata": {
    "colab_type": "text",
    "id": "AMYgxHQRb5yC"
   },
   "source": [
    "# Cookies"
   ]
  },
  {
   "cell_type": "code",
   "execution_count": null,
   "metadata": {
    "colab": {
     "base_uri": "https://localhost:8080/",
     "height": 54
    },
    "colab_type": "code",
    "executionInfo": {
     "elapsed": 1242,
     "status": "ok",
     "timestamp": 1563023366872,
     "user": {
      "displayName": "Bruce如是说",
      "photoUrl": "https://lh3.googleusercontent.com/-zfRn15u1WA0/AAAAAAAAAAI/AAAAAAAAAC8/CMuVAhOJOkE/s64/photo.jpg",
      "userId": "11741505420427847904"
     },
     "user_tz": -480
    },
    "id": "kxw4MENnb9yZ",
    "outputId": "af0027d9-2ca5-4b22-e20d-31837c65859d"
   },
   "outputs": [],
   "source": [
    "#get response cookies\n",
    "url = 'http://github.com/'\n",
    "r = requests.get(url)\n",
    "print(r.cookies)\n",
    "print('_octo',r.cookies['_octo'])"
   ]
  },
  {
   "cell_type": "code",
   "execution_count": null,
   "metadata": {},
   "outputs": [],
   "source": [
    "#set request cookies\n",
    "url = 'http://httpbin.org/cookies'\n",
    "cookies = dict(cookies_are='working')\n",
    "\n",
    "r = requests.get(url, cookies=cookies)\n",
    "print(r.text)"
   ]
  },
  {
   "cell_type": "markdown",
   "metadata": {},
   "source": [
    "# Timeouts"
   ]
  },
  {
   "cell_type": "code",
   "execution_count": null,
   "metadata": {
    "colab": {
     "base_uri": "https://localhost:8080/",
     "height": 51
    },
    "colab_type": "code",
    "executionInfo": {
     "elapsed": 672,
     "status": "ok",
     "timestamp": 1563023421991,
     "user": {
      "displayName": "Bruce如是说",
      "photoUrl": "https://lh3.googleusercontent.com/-zfRn15u1WA0/AAAAAAAAAAI/AAAAAAAAAC8/CMuVAhOJOkE/s64/photo.jpg",
      "userId": "11741505420427847904"
     },
     "user_tz": -480
    },
    "id": "EaKftJh6cNHJ",
    "outputId": "7951a889-10d8-4c2b-8a07-7b29efbd50bb"
   },
   "outputs": [],
   "source": [
    "url = 'http://github.com/'\n",
    "timeout = 0.01\n",
    "requests.get(url, timeout=timeout)"
   ]
  },
  {
   "cell_type": "markdown",
   "metadata": {
    "colab_type": "text",
    "id": "0eRl7Gwsd1V6"
   },
   "source": [
    "# Errors & Exceptions"
   ]
  },
  {
   "cell_type": "code",
   "execution_count": null,
   "metadata": {
    "colab": {},
    "colab_type": "code",
    "id": "CWfd-ftRd1hB"
   },
   "outputs": [],
   "source": [
    "# time out error\n",
    "url = 'http://api.github.com/events'\n",
    "timeout = 0.01\n",
    "try:\n",
    "    r = requests.get(url, timeout=timeout)\n",
    "except requests.exceptions.Timeout as ex:\n",
    "    print('timeout:', ex)\n",
    "finally:\n",
    "    print('the end.')"
   ]
  },
  {
   "cell_type": "code",
   "execution_count": null,
   "metadata": {
    "colab": {
     "base_uri": "https://localhost:8080/",
     "height": 34
    },
    "colab_type": "code",
    "executionInfo": {
     "elapsed": 681,
     "status": "ok",
     "timestamp": 1563023800354,
     "user": {
      "displayName": "Bruce如是说",
      "photoUrl": "https://lh3.googleusercontent.com/-zfRn15u1WA0/AAAAAAAAAAI/AAAAAAAAAC8/CMuVAhOJOkE/s64/photo.jpg",
      "userId": "11741505420427847904"
     },
     "user_tz": -480
    },
    "id": "N2vdcSnGeaBw",
    "outputId": "c6542d30-5ed7-496e-f257-c764890e05e7"
   },
   "outputs": [],
   "source": [
    "# connection error\n",
    "url = 'http://nx.example.com'\n",
    "try:\n",
    "    r = requests.get(url)\n",
    "except requests.exceptions.ConnectionError as ex:\n",
    "    print('connection error:', ex)\n",
    "finally:\n",
    "    print('the end.')"
   ]
  },
  {
   "cell_type": "code",
   "execution_count": null,
   "metadata": {
    "colab": {
     "base_uri": "https://localhost:8080/",
     "height": 54
    },
    "colab_type": "code",
    "executionInfo": {
     "elapsed": 690,
     "status": "ok",
     "timestamp": 1563024272868,
     "user": {
      "displayName": "Bruce如是说",
      "photoUrl": "https://lh3.googleusercontent.com/-zfRn15u1WA0/AAAAAAAAAAI/AAAAAAAAAC8/CMuVAhOJOkE/s64/photo.jpg",
      "userId": "11741505420427847904"
     },
     "user_tz": -480
    },
    "id": "dpnNsU5fgZMj",
    "outputId": "6a791f72-8057-4a5e-9a3a-0988825404be"
   },
   "outputs": [],
   "source": [
    "# request error\n",
    "url = 'http://nx.example.com'\n",
    "try:\n",
    "    r = requests.get(url)\n",
    "except requests.exceptions.RequestException as ex:\n",
    "    print('error:', ex)\n",
    "finally:\n",
    "    print('the end.')"
   ]
  },
  {
   "cell_type": "code",
   "execution_count": null,
   "metadata": {},
   "outputs": [],
   "source": []
  },
  {
   "cell_type": "code",
   "execution_count": null,
   "metadata": {},
   "outputs": [],
   "source": []
  }
 ],
 "metadata": {
  "colab": {
   "name": "requests.ipynb",
   "provenance": [],
   "version": "0.3.2"
  },
  "kernelspec": {
   "display_name": "Python 3",
   "language": "python",
   "name": "python3"
  },
  "language_info": {
   "codemirror_mode": {
    "name": "ipython",
    "version": 3
   },
   "file_extension": ".py",
   "mimetype": "text/x-python",
   "name": "python",
   "nbconvert_exporter": "python",
   "pygments_lexer": "ipython3",
   "version": "3.6.5"
  }
 },
 "nbformat": 4,
 "nbformat_minor": 1
}
