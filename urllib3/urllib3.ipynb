{
 "cells": [
  {
   "cell_type": "markdown",
   "metadata": {},
   "source": [
    "# Init"
   ]
  },
  {
   "cell_type": "code",
   "execution_count": null,
   "metadata": {},
   "outputs": [],
   "source": [
    "import urllib3\n",
    "import json\n",
    "http = urllib3.PoolManager()"
   ]
  },
  {
   "cell_type": "markdown",
   "metadata": {
    "colab_type": "text",
    "id": "psy8lqNk7haN"
   },
   "source": [
    "# Making Requests"
   ]
  },
  {
   "cell_type": "code",
   "execution_count": null,
   "metadata": {
    "colab": {},
    "colab_type": "code",
    "id": "AOXK1RhT33D1"
   },
   "outputs": [],
   "source": [
    "# GET\n",
    "url = 'http://httpbin.org/robots.txt'\n",
    "r = http.request('GET', url)"
   ]
  },
  {
   "cell_type": "code",
   "execution_count": null,
   "metadata": {
    "colab": {},
    "colab_type": "code",
    "id": "oMNhLemK6VoJ"
   },
   "outputs": [],
   "source": [
    "# POST\n",
    "url = 'http://httpbin.org/post'\n",
    "payload = {'hello': 'world'}\n",
    "r = http.request('POST', url, fields=payload)"
   ]
  },
  {
   "cell_type": "markdown",
   "metadata": {
    "colab_type": "text",
    "id": "wCEcH25W7rPD"
   },
   "source": [
    "# Response"
   ]
  },
  {
   "cell_type": "code",
   "execution_count": null,
   "metadata": {
    "colab": {
     "base_uri": "https://localhost:8080/",
     "height": 52
    },
    "colab_type": "code",
    "executionInfo": {
     "elapsed": 763,
     "status": "ok",
     "timestamp": 1562981011891,
     "user": {
      "displayName": "Bruce如是说",
      "photoUrl": "https://lh3.googleusercontent.com/-zfRn15u1WA0/AAAAAAAAAAI/AAAAAAAAAC8/CMuVAhOJOkE/s64/photo.jpg",
      "userId": "11741505420427847904"
     },
     "user_tz": -480
    },
    "id": "v4CdiQP87INd",
    "outputId": "734c2b90-b7f1-4cb2-88c8-1dc3014ce477"
   },
   "outputs": [],
   "source": [
    "# Status Codes, Headers\n",
    "url = 'http://httpbin.org/ip'\n",
    "r = http.request('GET', url)\n",
    "\n",
    "print(r.status)\n",
    "\n",
    "print(r.headers)\n"
   ]
  },
  {
   "cell_type": "code",
   "execution_count": null,
   "metadata": {
    "colab": {
     "base_uri": "https://localhost:8080/",
     "height": 34
    },
    "colab_type": "code",
    "executionInfo": {
     "elapsed": 717,
     "status": "ok",
     "timestamp": 1562981208955,
     "user": {
      "displayName": "Bruce如是说",
      "photoUrl": "https://lh3.googleusercontent.com/-zfRn15u1WA0/AAAAAAAAAAI/AAAAAAAAAC8/CMuVAhOJOkE/s64/photo.jpg",
      "userId": "11741505420427847904"
     },
     "user_tz": -480
    },
    "id": "1WNZ1lt07f5s",
    "outputId": "9c61e90d-700e-404f-a40c-ecf12c3b91e2"
   },
   "outputs": [],
   "source": [
    "# content\n",
    "# Binary, JSON\n",
    "url = 'http://httpbin.org/ip'\n",
    "r = http.request('GET', url)\n",
    "\n",
    "print(r.data)\n",
    "print(type(r.data))\n",
    "\n",
    "jsonTmp = json.loads(r.data.decode('utf-8'))\n",
    "print(jsonTmp)\n",
    "print(type(jsonTmp))"
   ]
  },
  {
   "cell_type": "markdown",
   "metadata": {
    "colab_type": "text",
    "id": "kKHTiND-8jaD"
   },
   "source": [
    "# Request data"
   ]
  },
  {
   "cell_type": "code",
   "execution_count": null,
   "metadata": {
    "colab": {
     "base_uri": "https://localhost:8080/",
     "height": 34
    },
    "colab_type": "code",
    "executionInfo": {
     "elapsed": 3128,
     "status": "ok",
     "timestamp": 1562981413412,
     "user": {
      "displayName": "Bruce如是说",
      "photoUrl": "https://lh3.googleusercontent.com/-zfRn15u1WA0/AAAAAAAAAAI/AAAAAAAAAC8/CMuVAhOJOkE/s64/photo.jpg",
      "userId": "11741505420427847904"
     },
     "user_tz": -480
    },
    "id": "TKkpXssI3lTV",
    "outputId": "a52c9368-bde4-456c-c9dd-dd6e96288112"
   },
   "outputs": [],
   "source": [
    "# Headers\n",
    "url = 'http://httpbin.org/headers'\n",
    "headers = {'X-Something': 'value'}\n",
    "r = http.request('GET', url, headers=headers)\n",
    "jsonTmp = json.loads(r.data.decode('utf-8'))['headers']\n",
    "print(jsonTmp)"
   ]
  },
  {
   "cell_type": "code",
   "execution_count": null,
   "metadata": {
    "colab": {
     "base_uri": "https://localhost:8080/",
     "height": 34
    },
    "colab_type": "code",
    "executionInfo": {
     "elapsed": 765,
     "status": "ok",
     "timestamp": 1562981471337,
     "user": {
      "displayName": "Bruce如是说",
      "photoUrl": "https://lh3.googleusercontent.com/-zfRn15u1WA0/AAAAAAAAAAI/AAAAAAAAAC8/CMuVAhOJOkE/s64/photo.jpg",
      "userId": "11741505420427847904"
     },
     "user_tz": -480
    },
    "id": "wNvnZuXH6TyV",
    "outputId": "1b4c2a3d-e9da-435e-99c9-8f7f41da961d"
   },
   "outputs": [],
   "source": [
    "# Query parameters\n",
    "url = 'http://httpbin.org/get'\n",
    "payload = {'arg': 'value'}\n",
    "r = http.request('GET', url, fields=payload)\n",
    "jsonTmp = json.loads(r.data.decode('utf-8'))['args']\n",
    "print(jsonTmp)"
   ]
  },
  {
   "cell_type": "code",
   "execution_count": null,
   "metadata": {
    "colab": {
     "base_uri": "https://localhost:8080/",
     "height": 34
    },
    "colab_type": "code",
    "executionInfo": {
     "elapsed": 722,
     "status": "ok",
     "timestamp": 1562982110910,
     "user": {
      "displayName": "Bruce如是说",
      "photoUrl": "https://lh3.googleusercontent.com/-zfRn15u1WA0/AAAAAAAAAAI/AAAAAAAAAC8/CMuVAhOJOkE/s64/photo.jpg",
      "userId": "11741505420427847904"
     },
     "user_tz": -480
    },
    "id": "mDK_NzG4_LGG",
    "outputId": "99571efe-5176-425b-9f5d-20043b378555"
   },
   "outputs": [],
   "source": [
    "# JSON\n",
    "url = 'http://httpbin.org/post'\n",
    "data = {'attribute': 'value'}\n",
    "encoded_data = json.dumps(data).encode('utf-8')\n",
    "headers = {'Content-Type': 'application/json'}\n",
    "r = http.request('POST', url, body=encoded_data, headers=headers)\n",
    "jsonTmp = json.loads(r.data.decode('utf-8'))['json']\n",
    "print(jsonTmp)"
   ]
  },
  {
   "cell_type": "code",
   "execution_count": null,
   "metadata": {
    "colab": {
     "base_uri": "https://localhost:8080/",
     "height": 34
    },
    "colab_type": "code",
    "executionInfo": {
     "elapsed": 788,
     "status": "ok",
     "timestamp": 1562981653518,
     "user": {
      "displayName": "Bruce如是说",
      "photoUrl": "https://lh3.googleusercontent.com/-zfRn15u1WA0/AAAAAAAAAAI/AAAAAAAAAC8/CMuVAhOJOkE/s64/photo.jpg",
      "userId": "11741505420427847904"
     },
     "user_tz": -480
    },
    "id": "C8ICL6U09vOB",
    "outputId": "778a2c92-d14d-49c9-d39f-d43b1e32906d"
   },
   "outputs": [],
   "source": [
    "# Form data\n",
    "url = 'http://httpbin.org/post'\n",
    "payload = {'field': 'value'}\n",
    "r = http.request('POST', url, fields=payload)\n",
    "jsonTmp = json.loads(r.data.decode('utf-8'))['form']\n",
    "print(jsonTmp)"
   ]
  },
  {
   "cell_type": "code",
   "execution_count": null,
   "metadata": {
    "colab": {
     "base_uri": "https://localhost:8080/",
     "height": 54
    },
    "colab_type": "code",
    "executionInfo": {
     "elapsed": 733,
     "status": "ok",
     "timestamp": 1562983082620,
     "user": {
      "displayName": "Bruce如是说",
      "photoUrl": "https://lh3.googleusercontent.com/-zfRn15u1WA0/AAAAAAAAAAI/AAAAAAAAAC8/CMuVAhOJOkE/s64/photo.jpg",
      "userId": "11741505420427847904"
     },
     "user_tz": -480
    },
    "id": "NkpH98Ad_zDk",
    "outputId": "531b0d96-2d97-4085-fc7c-367bdcf44e70"
   },
   "outputs": [],
   "source": [
    "# Files & binary data\n",
    "url = 'http://httpbin.org/post'\n",
    "with open('README.md') as fp:\n",
    "    file_data = fp.read()\n",
    "payload = {'filefield': ('file', file_data)}\n",
    "r = http.request('POST', url, fields=payload)\n",
    "jsonTmp = json.loads(r.data.decode('utf-8'))['files']\n",
    "print(jsonTmp)"
   ]
  },
  {
   "cell_type": "markdown",
   "metadata": {
    "colab_type": "text",
    "id": "x2bz-hfHFBVq"
   },
   "source": [
    "# Using timeouts"
   ]
  },
  {
   "cell_type": "code",
   "execution_count": null,
   "metadata": {
    "colab": {
     "base_uri": "https://localhost:8080/",
     "height": 34
    },
    "colab_type": "code",
    "executionInfo": {
     "elapsed": 3708,
     "status": "ok",
     "timestamp": 1562983930819,
     "user": {
      "displayName": "Bruce如是说",
      "photoUrl": "https://lh3.googleusercontent.com/-zfRn15u1WA0/AAAAAAAAAAI/AAAAAAAAAC8/CMuVAhOJOkE/s64/photo.jpg",
      "userId": "11741505420427847904"
     },
     "user_tz": -480
    },
    "id": "GvuEUIYAFHA0",
    "outputId": "e4eef33b-db0a-40cf-d752-dda174a9a3b1"
   },
   "outputs": [],
   "source": [
    "url = 'http://httpbin.org/delay/3'\n",
    "r = http.request('GET', url, timeout=1)"
   ]
  },
  {
   "cell_type": "markdown",
   "metadata": {
    "colab_type": "text",
    "id": "1RymgDv4GOUH"
   },
   "source": [
    "# Errors & Exceptions"
   ]
  },
  {
   "cell_type": "code",
   "execution_count": null,
   "metadata": {
    "colab": {
     "base_uri": "https://localhost:8080/",
     "height": 34
    },
    "colab_type": "code",
    "executionInfo": {
     "elapsed": 685,
     "status": "ok",
     "timestamp": 1562984146806,
     "user": {
      "displayName": "Bruce如是说",
      "photoUrl": "https://lh3.googleusercontent.com/-zfRn15u1WA0/AAAAAAAAAAI/AAAAAAAAAC8/CMuVAhOJOkE/s64/photo.jpg",
      "userId": "11741505420427847904"
     },
     "user_tz": -480
    },
    "id": "YrGBBNtnHO5l",
    "outputId": "7c6a58ec-0e18-453b-a71b-95139c2c15c1"
   },
   "outputs": [],
   "source": [
    "# time out error\n",
    "url = 'http://httpbin.org'\n",
    "try:\n",
    "    http.request('GET', url, timeout=0.01, retries=False)\n",
    "except urllib3.exceptions.ConnectTimeoutError as ex:\n",
    "    print('timeout:', ex)\n",
    "finally:\n",
    "    print('the end.')"
   ]
  },
  {
   "cell_type": "code",
   "execution_count": null,
   "metadata": {
    "colab": {
     "base_uri": "https://localhost:8080/",
     "height": 165
    },
    "colab_type": "code",
    "executionInfo": {
     "elapsed": 746,
     "status": "error",
     "timestamp": 1562984197727,
     "user": {
      "displayName": "Bruce如是说",
      "photoUrl": "https://lh3.googleusercontent.com/-zfRn15u1WA0/AAAAAAAAAAI/AAAAAAAAAC8/CMuVAhOJOkE/s64/photo.jpg",
      "userId": "11741505420427847904"
     },
     "user_tz": -480
    },
    "id": "opzjNSm4He_D",
    "outputId": "092ad8fc-b190-4ec8-b7fc-16ea2ea7356b"
   },
   "outputs": [],
   "source": [
    "# connection error\n",
    "url = 'nx.example.com'\n",
    "try:\n",
    "    http.request('GET', url, retries=False)\n",
    "except urllib3.exceptions.NewConnectionError as ex:\n",
    "    print('connection error:', ex)\n",
    "finally:\n",
    "    print('the end.')"
   ]
  },
  {
   "cell_type": "code",
   "execution_count": null,
   "metadata": {},
   "outputs": [],
   "source": [
    "# http error\n",
    "url = 'nx.example.com'\n",
    "try:\n",
    "    http.request('GET', url, retries=False)\n",
    "except urllib3.exceptions.HTTPError as ex:\n",
    "    print('http error:', ex)\n",
    "finally:\n",
    "    print('the end.')"
   ]
  },
  {
   "cell_type": "code",
   "execution_count": null,
   "metadata": {},
   "outputs": [],
   "source": []
  }
 ],
 "metadata": {
  "colab": {
   "name": "urllib3.ipynb",
   "provenance": [],
   "toc_visible": true,
   "version": "0.3.2"
  },
  "kernelspec": {
   "display_name": "Python 3",
   "language": "python",
   "name": "python3"
  },
  "language_info": {
   "codemirror_mode": {
    "name": "ipython",
    "version": 3
   },
   "file_extension": ".py",
   "mimetype": "text/x-python",
   "name": "python",
   "nbconvert_exporter": "python",
   "pygments_lexer": "ipython3",
   "version": "3.6.5"
  }
 },
 "nbformat": 4,
 "nbformat_minor": 1
}
