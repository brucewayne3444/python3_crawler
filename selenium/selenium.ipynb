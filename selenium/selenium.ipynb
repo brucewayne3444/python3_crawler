{
 "cells": [
  {
   "cell_type": "markdown",
   "metadata": {},
   "source": [
    "# Init"
   ]
  },
  {
   "cell_type": "code",
   "execution_count": 1,
   "metadata": {},
   "outputs": [],
   "source": [
    "import time\n",
    "from selenium import webdriver\n",
    "from selenium.webdriver.common.keys import Keys\n",
    "from selenium.webdriver.common.by import By\n",
    "from selenium.webdriver.support.ui import WebDriverWait\n",
    "from selenium.webdriver.support import expected_conditions as EC\n",
    "from selenium.common.exceptions import NoSuchElementException, TimeoutException, WebDriverException\n",
    "SLEEP_TIME = 5"
   ]
  },
  {
   "cell_type": "markdown",
   "metadata": {},
   "source": [
    "# Simple usage"
   ]
  },
  {
   "cell_type": "code",
   "execution_count": 5,
   "metadata": {},
   "outputs": [],
   "source": [
    "browser = webdriver.Firefox()\n",
    "browser.get(\"http://www.python.org\")\n",
    "assert \"Python\" in browser.title\n",
    "elem = browser.find_element_by_name(\"q\")\n",
    "#elem = browser.find_element(By.NAME, \"q\")\n",
    "elem.clear()\n",
    "elem.send_keys(\"pycon\")\n",
    "time.sleep(2)\n",
    "elem.send_keys(Keys.RETURN)\n",
    "assert \"No results found.\" not in browser.page_source\n",
    "time.sleep(SLEEP_TIME)\n",
    "browser.close()"
   ]
  },
  {
   "cell_type": "markdown",
   "metadata": {},
   "source": [
    "# Cookies"
   ]
  },
  {
   "cell_type": "code",
   "execution_count": 3,
   "metadata": {},
   "outputs": [],
   "source": [
    "#set request cookies\n",
    "browser = webdriver.Firefox()\n",
    "url = 'http://httpbin.org/cookies'\n",
    "browser.get(url)\n",
    "\n",
    "cookie = {'name' : 'X-foo', 'value' : 'X-bar'}\n",
    "browser.add_cookie(cookie)\n",
    "\n",
    "#browser.get_cookies()\n",
    "\n",
    "#time.sleep(10)\n",
    "browser.get(url)\n",
    "\n",
    "time.sleep(SLEEP_TIME)\n",
    "browser.close()"
   ]
  },
  {
   "cell_type": "markdown",
   "metadata": {},
   "source": [
    "# Locating Elements"
   ]
  },
  {
   "cell_type": "code",
   "execution_count": 4,
   "metadata": {},
   "outputs": [],
   "source": [
    "# by id\n",
    "browser = webdriver.Firefox()\n",
    "browser.get(\"http://www.python.org\")\n",
    "assert \"Python\" in browser.title\n",
    "elem = browser.find_element_by_id(\"id-search-field\")\n",
    "#elem = browser.find_element(By.ID, \"id-search-field\")\n",
    "elem.clear()\n",
    "elem.send_keys(\"by id\")\n",
    "elem.send_keys(Keys.RETURN)\n",
    "assert \"No results found.\" not in browser.page_source\n",
    "time.sleep(SLEEP_TIME)\n",
    "browser.close()"
   ]
  },
  {
   "cell_type": "code",
   "execution_count": null,
   "metadata": {},
   "outputs": [],
   "source": [
    "# by xpath\n",
    "browser = webdriver.Firefox()\n",
    "browser.get(\"http://www.python.org\")\n",
    "assert \"Python\" in browser.title\n",
    "elem = browser.find_element_by_xpath(\"//*[@id='id-search-field']\")\n",
    "#elem = browser.find_element(By.XPATH, \"//*[@id='id-search-field']\")\n",
    "elem.clear()\n",
    "elem.send_keys(\"by xpath\")\n",
    "elem.send_keys(Keys.RETURN)\n",
    "assert \"No results found.\" not in browser.page_source\n",
    "time.sleep(SLEEP_TIME)\n",
    "browser.close()"
   ]
  },
  {
   "cell_type": "code",
   "execution_count": 6,
   "metadata": {},
   "outputs": [],
   "source": [
    "# by class name\n",
    "browser = webdriver.Firefox()\n",
    "browser.get(\"http://www.python.org\")\n",
    "assert \"Python\" in browser.title\n",
    "elem = browser.find_element_by_class_name(\"search-field\")\n",
    "#elem = browser.find_element(By.CLASS_NAME, \"search-field\")\n",
    "elem.clear()\n",
    "elem.send_keys(\"by class name\")\n",
    "elem.send_keys(Keys.RETURN)\n",
    "assert \"No results found.\" not in browser.page_source\n",
    "time.sleep(SLEEP_TIME)\n",
    "browser.close()"
   ]
  },
  {
   "cell_type": "code",
   "execution_count": 7,
   "metadata": {},
   "outputs": [],
   "source": [
    "# by css selector\n",
    "browser = webdriver.Firefox()\n",
    "browser.get(\"http://www.python.org\")\n",
    "assert \"Python\" in browser.title\n",
    "elem = browser.find_element_by_css_selector(\"#id-search-field\")\n",
    "#elem = browser.find_element(By.CSS_SELECTOR, \"#id-search-field\")\n",
    "elem.clear()\n",
    "elem.send_keys(\"by css selector\")\n",
    "elem.send_keys(Keys.RETURN)\n",
    "assert \"No results found.\" not in browser.page_source\n",
    "time.sleep(SLEEP_TIME)\n",
    "browser.close()"
   ]
  },
  {
   "cell_type": "markdown",
   "metadata": {},
   "source": [
    "# Waits"
   ]
  },
  {
   "cell_type": "code",
   "execution_count": 12,
   "metadata": {},
   "outputs": [
    {
     "name": "stdout",
     "output_type": "stream",
     "text": [
      "2019-07-22 20:02:45 error\n",
      "2019-07-22 20:02:51 error\n",
      "use time 1: 10.214584112167358\n",
      "use time 2: 5.103291749954224\n"
     ]
    }
   ],
   "source": [
    "#Explicit Waits\n",
    "browser = webdriver.Firefox()\n",
    "browser.get(\"http://www.python.org\")\n",
    "\n",
    "CSS_SELECTOR = \"#xxxid-search-field\"\n",
    "t1 = time.time()\n",
    "try:\n",
    "    element = WebDriverWait(browser, 10).until(\n",
    "        EC.presence_of_element_located((By.CSS_SELECTOR, CSS_SELECTOR))\n",
    "    )\n",
    "except:\n",
    "    print(time.strftime(\"%Y-%m-%d %H:%M:%S\", time.localtime()), \"error\")\n",
    "t2 = time.time()\n",
    "\n",
    "try:\n",
    "    element = WebDriverWait(browser, 5).until(\n",
    "        EC.presence_of_element_located((By.CSS_SELECTOR, CSS_SELECTOR))\n",
    "    )\n",
    "except:\n",
    "    print(time.strftime(\"%Y-%m-%d %H:%M:%S\", time.localtime()), \"error\")\n",
    " \n",
    "\n",
    "t3 = time.time()\n",
    "print(\"use time 1:\", t2-t1)\n",
    "print(\"use time 2:\", t3-t2)\n",
    "\n",
    "browser.close()"
   ]
  },
  {
   "cell_type": "code",
   "execution_count": 13,
   "metadata": {},
   "outputs": [
    {
     "name": "stdout",
     "output_type": "stream",
     "text": [
      "2019-07-22 20:03:27 error\n",
      "2019-07-22 20:03:37 error\n",
      "use time 1: 10.014572620391846\n",
      "use time 2: 10.021573305130005\n"
     ]
    }
   ],
   "source": [
    "#Implicit Waits\n",
    "\n",
    "browser = webdriver.Firefox()\n",
    "wait = browser.implicitly_wait(10)\n",
    "browser.get(\"http://www.python.org\")\n",
    "\n",
    "CSS_SELECTOR = \"#xxxid-search-field\"\n",
    "t1 = time.time()\n",
    "try:\n",
    "    elem = browser.find_element_by_css_selector(CSS_SELECTOR)\n",
    "except:\n",
    "    print(time.strftime(\"%Y-%m-%d %H:%M:%S\", time.localtime()), \"error\")\n",
    "t2 = time.time()\n",
    "\n",
    "try:\n",
    "    elem = browser.find_element_by_css_selector(CSS_SELECTOR)\n",
    "except:\n",
    "    print(time.strftime(\"%Y-%m-%d %H:%M:%S\", time.localtime()), \"error\")\n",
    "\n",
    "\n",
    "t3 = time.time()\n",
    "print(\"use time 1:\", t2-t1)\n",
    "print(\"use time 2:\", t3-t2)\n",
    "\n",
    "browser.close()"
   ]
  },
  {
   "cell_type": "markdown",
   "metadata": {},
   "source": [
    "# Exceptions"
   ]
  },
  {
   "cell_type": "code",
   "execution_count": 14,
   "metadata": {},
   "outputs": [
    {
     "name": "stdout",
     "output_type": "stream",
     "text": [
      "timeout.\n"
     ]
    }
   ],
   "source": [
    "# TimeoutException\n",
    "browser = webdriver.Firefox()\n",
    "browser.get(\"http://www.python.org\")\n",
    "\n",
    "CSS_SELECTOR = \"#xxid-search-field\"\n",
    "try:\n",
    "    element = WebDriverWait(browser, 1).until(\n",
    "        EC.presence_of_element_located((By.CSS_SELECTOR, CSS_SELECTOR))\n",
    "    )\n",
    "except TimeoutException:\n",
    "    print(\"timeout.\")\n",
    "finally:\n",
    "    browser.quit()\n"
   ]
  },
  {
   "cell_type": "code",
   "execution_count": 15,
   "metadata": {},
   "outputs": [
    {
     "name": "stdout",
     "output_type": "stream",
     "text": [
      "element no found.\n"
     ]
    }
   ],
   "source": [
    "# NoSuchElementException\n",
    "browser = webdriver.Firefox()\n",
    "browser.get(\"http://www.python.org\")\n",
    "\n",
    "CSS_SELECTOR = \"#xxid-search-field\"\n",
    "try:\n",
    "    elem = browser.find_element_by_css_selector(CSS_SELECTOR)\n",
    "except NoSuchElementException:\n",
    "    print(\"element no found.\")\n",
    "finally:\n",
    "    browser.quit()"
   ]
  },
  {
   "cell_type": "code",
   "execution_count": 16,
   "metadata": {},
   "outputs": [
    {
     "name": "stdout",
     "output_type": "stream",
     "text": [
      "error\n"
     ]
    }
   ],
   "source": [
    "# WebDriverException\n",
    "browser = webdriver.Firefox()\n",
    "browser.get(\"http://www.python.org\")\n",
    "\n",
    "CSS_SELECTOR = \"#xxff\"\n",
    "try:\n",
    "    element = WebDriverWait(browser, 1).until(\n",
    "        EC.element_to_be_clickable((By.CSS_SELECTOR, CSS_SELECTOR))\n",
    "    )\n",
    "except WebDriverException:\n",
    "    print(\"error\")\n",
    "finally:\n",
    "    browser.quit()"
   ]
  },
  {
   "cell_type": "markdown",
   "metadata": {},
   "source": [
    "# Proxy"
   ]
  },
  {
   "cell_type": "code",
   "execution_count": null,
   "metadata": {},
   "outputs": [],
   "source": [
    "# TODO..."
   ]
  }
 ],
 "metadata": {
  "kernelspec": {
   "display_name": "Python 3",
   "language": "python",
   "name": "python3"
  },
  "language_info": {
   "codemirror_mode": {
    "name": "ipython",
    "version": 3
   },
   "file_extension": ".py",
   "mimetype": "text/x-python",
   "name": "python",
   "nbconvert_exporter": "python",
   "pygments_lexer": "ipython3",
   "version": "3.6.5"
  }
 },
 "nbformat": 4,
 "nbformat_minor": 2
}
